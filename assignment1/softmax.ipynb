{
 "cells": [
  {
   "cell_type": "markdown",
   "metadata": {
    "tags": [
     "pdf-title"
    ]
   },
   "source": [
    "# Softmax exercise\n",
    "\n",
    "*Complete and hand in this completed worksheet (including its outputs and any supporting code outside of the worksheet) with your assignment submission. For more details see the [assignments page](http://vision.stanford.edu/teaching/cs231n/assignments.html) on the course website.*\n",
    "\n",
    "This exercise is analogous to the SVM exercise. You will:\n",
    "\n",
    "- implement a fully-vectorized **loss function** for the Softmax classifier\n",
    "- implement the fully-vectorized expression for its **analytic gradient**\n",
    "- **check your implementation** with numerical gradient\n",
    "- use a validation set to **tune the learning rate and regularization** strength\n",
    "- **optimize** the loss function with **SGD**\n",
    "- **visualize** the final learned weights\n"
   ]
  },
  {
   "cell_type": "code",
   "execution_count": 1,
   "metadata": {
    "tags": [
     "pdf-ignore"
    ]
   },
   "outputs": [],
   "source": [
    "import random\n",
    "import numpy as np\n",
    "from cs231n.data_utils import load_CIFAR10\n",
    "import matplotlib.pyplot as plt\n",
    "\n",
    "%matplotlib inline\n",
    "plt.rcParams['figure.figsize'] = (10.0, 8.0) # set default size of plots\n",
    "plt.rcParams['image.interpolation'] = 'nearest'\n",
    "plt.rcParams['image.cmap'] = 'gray'\n",
    "\n",
    "# for auto-reloading extenrnal modules\n",
    "# see http://stackoverflow.com/questions/1907993/autoreload-of-modules-in-ipython\n",
    "%load_ext autoreload\n",
    "%autoreload 2"
   ]
  },
  {
   "cell_type": "code",
   "execution_count": 2,
   "metadata": {
    "tags": [
     "pdf-ignore"
    ]
   },
   "outputs": [
    {
     "name": "stdout",
     "output_type": "stream",
     "text": [
      "Train data shape:  (49000, 3073)\n",
      "Train labels shape:  (49000,)\n",
      "Validation data shape:  (1000, 3073)\n",
      "Validation labels shape:  (1000,)\n",
      "Test data shape:  (1000, 3073)\n",
      "Test labels shape:  (1000,)\n",
      "dev data shape:  (500, 3073)\n",
      "dev labels shape:  (500,)\n"
     ]
    }
   ],
   "source": [
    "def get_CIFAR10_data(num_training=49000, num_validation=1000, num_test=1000, num_dev=500):\n",
    "    \"\"\"\n",
    "    Load the CIFAR-10 dataset from disk and perform preprocessing to prepare\n",
    "    it for the linear classifier. These are the same steps as we used for the\n",
    "    SVM, but condensed to a single function.  \n",
    "    \"\"\"\n",
    "    # Load the raw CIFAR-10 data\n",
    "    cifar10_dir = 'cs231n/datasets/cifar-10-batches-py'\n",
    "    \n",
    "    # Cleaning up variables to prevent loading data multiple times (which may cause memory issue)\n",
    "    try:\n",
    "       del X_train, y_train\n",
    "       del X_test, y_test\n",
    "       print('Clear previously loaded data.')\n",
    "    except:\n",
    "       pass\n",
    "\n",
    "    X_train, y_train, X_test, y_test = load_CIFAR10(cifar10_dir)\n",
    "    \n",
    "    # subsample the data\n",
    "    mask = list(range(num_training, num_training + num_validation))\n",
    "    X_val = X_train[mask]\n",
    "    y_val = y_train[mask]\n",
    "    mask = list(range(num_training))\n",
    "    X_train = X_train[mask]\n",
    "    y_train = y_train[mask]\n",
    "    mask = list(range(num_test))\n",
    "    X_test = X_test[mask]\n",
    "    y_test = y_test[mask]\n",
    "    mask = np.random.choice(num_training, num_dev, replace=False)\n",
    "    X_dev = X_train[mask]\n",
    "    y_dev = y_train[mask]\n",
    "    \n",
    "    # Preprocessing: reshape the image data into rows\n",
    "    X_train = np.reshape(X_train, (X_train.shape[0], -1))\n",
    "    X_val = np.reshape(X_val, (X_val.shape[0], -1))\n",
    "    X_test = np.reshape(X_test, (X_test.shape[0], -1))\n",
    "    X_dev = np.reshape(X_dev, (X_dev.shape[0], -1))\n",
    "    \n",
    "    # Normalize the data: subtract the mean image\n",
    "    mean_image = np.mean(X_train, axis = 0)\n",
    "    X_train -= mean_image\n",
    "    X_val -= mean_image\n",
    "    X_test -= mean_image\n",
    "    X_dev -= mean_image\n",
    "    \n",
    "    # add bias dimension and transform into columns\n",
    "    X_train = np.hstack([X_train, np.ones((X_train.shape[0], 1))])\n",
    "    X_val = np.hstack([X_val, np.ones((X_val.shape[0], 1))])\n",
    "    X_test = np.hstack([X_test, np.ones((X_test.shape[0], 1))])\n",
    "    X_dev = np.hstack([X_dev, np.ones((X_dev.shape[0], 1))])\n",
    "    \n",
    "    return X_train, y_train, X_val, y_val, X_test, y_test, X_dev, y_dev\n",
    "\n",
    "\n",
    "# Invoke the above function to get our data.\n",
    "X_train, y_train, X_val, y_val, X_test, y_test, X_dev, y_dev = get_CIFAR10_data()\n",
    "print('Train data shape: ', X_train.shape)\n",
    "print('Train labels shape: ', y_train.shape)\n",
    "print('Validation data shape: ', X_val.shape)\n",
    "print('Validation labels shape: ', y_val.shape)\n",
    "print('Test data shape: ', X_test.shape)\n",
    "print('Test labels shape: ', y_test.shape)\n",
    "print('dev data shape: ', X_dev.shape)\n",
    "print('dev labels shape: ', y_dev.shape)"
   ]
  },
  {
   "cell_type": "markdown",
   "metadata": {},
   "source": [
    "## Softmax Classifier\n",
    "\n",
    "Your code for this section will all be written inside `cs231n/classifiers/softmax.py`.\n"
   ]
  },
  {
   "cell_type": "code",
   "execution_count": 4,
   "metadata": {},
   "outputs": [
    {
     "name": "stdout",
     "output_type": "stream",
     "text": [
      "loss: 2.302485\n",
      "sanity check: 2.302585\n"
     ]
    }
   ],
   "source": [
    "# First implement the naive softmax loss function with nested loops.\n",
    "# Open the file cs231n/classifiers/softmax.py and implement the\n",
    "# softmax_loss_naive function.\n",
    "\n",
    "from cs231n.classifiers.softmax import softmax_loss_naive\n",
    "import time\n",
    "\n",
    "# Generate a random softmax weight matrix and use it to compute the loss.\n",
    "W = np.random.randn(3073, 10) * 0.0001\n",
    "loss, grad = softmax_loss_naive(W, X_dev, y_dev, 0.0)\n",
    "\n",
    "# As a rough sanity check, our loss should be something close to -log(0.1).\n",
    "print('loss: %f' % loss)\n",
    "print('sanity check: %f' % (-np.log(0.1)))"
   ]
  },
  {
   "cell_type": "markdown",
   "metadata": {
    "tags": [
     "pdf-inline"
    ]
   },
   "source": [
    "**Inline Question 1**\n",
    "\n",
    "Why do we expect our loss to be close to -log(0.1)? Explain briefly.**\n",
    "\n",
    "$\\color{blue}{\\textit Your Answer:}$ Because we initialize the `W` matrix with random values, the probability of selecting the right class is $\\frac{1}{N}$, where $N$ is the number of classes. In this case we have $10$ classes, so we expect the probability to be $0.1$. Consequently, the loss should be close to $-log(0.1)$ according to the formula."
   ]
  },
  {
   "cell_type": "code",
   "execution_count": 5,
   "metadata": {},
   "outputs": [
    {
     "name": "stdout",
     "output_type": "stream",
     "text": [
      "numerical: 0.472312 analytic: 0.472312, relative error: 2.345278e-08\n",
      "numerical: 1.038886 analytic: 1.038886, relative error: 2.136925e-08\n",
      "numerical: -1.157191 analytic: -1.157191, relative error: 1.392727e-08\n",
      "numerical: -1.238532 analytic: -1.238532, relative error: 5.927340e-09\n",
      "numerical: -0.069903 analytic: -0.069903, relative error: 1.180845e-07\n",
      "numerical: 2.395292 analytic: 2.395292, relative error: 3.131979e-09\n",
      "numerical: 1.216969 analytic: 1.216969, relative error: 6.259098e-08\n",
      "numerical: -0.031352 analytic: -0.031352, relative error: 1.787487e-06\n",
      "numerical: 2.226906 analytic: 2.226906, relative error: 4.479323e-09\n",
      "numerical: -0.241620 analytic: -0.241620, relative error: 9.815326e-08\n",
      "numerical: 1.345319 analytic: 1.345319, relative error: 1.571325e-08\n",
      "numerical: -1.331313 analytic: -1.331313, relative error: 3.200593e-08\n",
      "numerical: -5.242424 analytic: -5.242424, relative error: 7.137834e-09\n",
      "numerical: 1.765606 analytic: 1.765606, relative error: 1.537137e-08\n",
      "numerical: -0.386531 analytic: -0.386531, relative error: 1.603604e-08\n",
      "numerical: 1.269481 analytic: 1.269481, relative error: 2.226417e-08\n",
      "numerical: -1.229437 analytic: -1.229437, relative error: 2.134467e-08\n",
      "numerical: 3.854926 analytic: 3.854925, relative error: 7.898237e-09\n",
      "numerical: 0.772858 analytic: 0.772858, relative error: 2.766955e-08\n",
      "numerical: 1.062642 analytic: 1.062641, relative error: 8.136651e-09\n"
     ]
    }
   ],
   "source": [
    "# Complete the implementation of softmax_loss_naive and implement a (naive)\n",
    "# version of the gradient that uses nested loops.\n",
    "loss, grad = softmax_loss_naive(W, X_dev, y_dev, 0.0)\n",
    "\n",
    "# As we did for the SVM, use numeric gradient checking as a debugging tool.\n",
    "# The numeric gradient should be close to the analytic gradient.\n",
    "from cs231n.gradient_check import grad_check_sparse\n",
    "f = lambda w: softmax_loss_naive(w, X_dev, y_dev, 0.0)[0]\n",
    "grad_numerical = grad_check_sparse(f, W, grad, 10)\n",
    "\n",
    "# similar to SVM case, do another gradient check with regularization\n",
    "loss, grad = softmax_loss_naive(W, X_dev, y_dev, 5e1)\n",
    "f = lambda w: softmax_loss_naive(w, X_dev, y_dev, 5e1)[0]\n",
    "grad_numerical = grad_check_sparse(f, W, grad, 10)"
   ]
  },
  {
   "cell_type": "code",
   "execution_count": 20,
   "metadata": {},
   "outputs": [
    {
     "name": "stdout",
     "output_type": "stream",
     "text": [
      "naive loss: 2.302485e+00 computed in 0.225764s\n",
      "vectorized loss: 2.302485e+00 computed in 0.011563s\n",
      "Loss difference: 0.000000\n",
      "Gradient difference: 0.000000\n"
     ]
    }
   ],
   "source": [
    "# Now that we have a naive implementation of the softmax loss function and its gradient,\n",
    "# implement a vectorized version in softmax_loss_vectorized.\n",
    "# The two versions should compute the same results, but the vectorized version should be\n",
    "# much faster.\n",
    "tic = time.time()\n",
    "loss_naive, grad_naive = softmax_loss_naive(W, X_dev, y_dev, 0.000005)\n",
    "toc = time.time()\n",
    "print('naive loss: %e computed in %fs' % (loss_naive, toc - tic))\n",
    "\n",
    "from cs231n.classifiers.softmax import softmax_loss_vectorized\n",
    "tic = time.time()\n",
    "loss_vectorized, grad_vectorized = softmax_loss_vectorized(W, X_dev, y_dev, 0.000005)\n",
    "toc = time.time()\n",
    "print('vectorized loss: %e computed in %fs' % (loss_vectorized, toc - tic))\n",
    "\n",
    "# As we did for the SVM, we use the Frobenius norm to compare the two versions\n",
    "# of the gradient.\n",
    "grad_difference = np.linalg.norm(grad_naive - grad_vectorized, ord='fro')\n",
    "print('Loss difference: %f' % np.abs(loss_naive - loss_vectorized))\n",
    "print('Gradient difference: %f' % grad_difference)"
   ]
  },
  {
   "cell_type": "code",
   "execution_count": 25,
   "metadata": {
    "id": "tuning",
    "scrolled": false,
    "tags": [
     "code"
    ]
   },
   "outputs": [
    {
     "name": "stdout",
     "output_type": "stream",
     "text": [
      "lr 1.000000e-07 reg 2.500000e+04 train accuracy: 0.310163 val accuracy: 0.340000\n",
      "lr 1.000000e-07 reg 2.777778e+04 train accuracy: 0.315327 val accuracy: 0.333000\n",
      "lr 1.000000e-07 reg 3.055556e+04 train accuracy: 0.310755 val accuracy: 0.331000\n",
      "lr 1.000000e-07 reg 3.333333e+04 train accuracy: 0.310265 val accuracy: 0.327000\n",
      "lr 1.000000e-07 reg 3.611111e+04 train accuracy: 0.309490 val accuracy: 0.323000\n",
      "lr 1.000000e-07 reg 3.888889e+04 train accuracy: 0.315388 val accuracy: 0.320000\n",
      "lr 1.000000e-07 reg 4.166667e+04 train accuracy: 0.315204 val accuracy: 0.324000\n",
      "lr 1.000000e-07 reg 4.444444e+04 train accuracy: 0.305796 val accuracy: 0.321000\n",
      "lr 1.000000e-07 reg 4.722222e+04 train accuracy: 0.312102 val accuracy: 0.332000\n",
      "lr 1.000000e-07 reg 5.000000e+04 train accuracy: 0.308122 val accuracy: 0.320000\n",
      "lr 2.000000e-07 reg 2.500000e+04 train accuracy: 0.322755 val accuracy: 0.341000\n",
      "lr 2.000000e-07 reg 2.777778e+04 train accuracy: 0.322327 val accuracy: 0.337000\n",
      "lr 2.000000e-07 reg 3.055556e+04 train accuracy: 0.323837 val accuracy: 0.333000\n",
      "lr 2.000000e-07 reg 3.333333e+04 train accuracy: 0.314571 val accuracy: 0.334000\n",
      "lr 2.000000e-07 reg 3.611111e+04 train accuracy: 0.316510 val accuracy: 0.335000\n",
      "lr 2.000000e-07 reg 3.888889e+04 train accuracy: 0.317367 val accuracy: 0.336000\n",
      "lr 2.000000e-07 reg 4.166667e+04 train accuracy: 0.317510 val accuracy: 0.339000\n",
      "lr 2.000000e-07 reg 4.444444e+04 train accuracy: 0.303286 val accuracy: 0.320000\n",
      "lr 2.000000e-07 reg 4.722222e+04 train accuracy: 0.313735 val accuracy: 0.328000\n",
      "lr 2.000000e-07 reg 5.000000e+04 train accuracy: 0.314551 val accuracy: 0.329000\n",
      "lr 3.000000e-07 reg 2.500000e+04 train accuracy: 0.329816 val accuracy: 0.344000\n",
      "lr 3.000000e-07 reg 2.777778e+04 train accuracy: 0.311367 val accuracy: 0.336000\n",
      "lr 3.000000e-07 reg 3.055556e+04 train accuracy: 0.315184 val accuracy: 0.334000\n",
      "lr 3.000000e-07 reg 3.333333e+04 train accuracy: 0.314469 val accuracy: 0.330000\n",
      "lr 3.000000e-07 reg 3.611111e+04 train accuracy: 0.321898 val accuracy: 0.332000\n",
      "lr 3.000000e-07 reg 3.888889e+04 train accuracy: 0.315918 val accuracy: 0.336000\n",
      "lr 3.000000e-07 reg 4.166667e+04 train accuracy: 0.308612 val accuracy: 0.322000\n",
      "lr 3.000000e-07 reg 4.444444e+04 train accuracy: 0.302245 val accuracy: 0.313000\n",
      "lr 3.000000e-07 reg 4.722222e+04 train accuracy: 0.306082 val accuracy: 0.312000\n",
      "lr 3.000000e-07 reg 5.000000e+04 train accuracy: 0.295143 val accuracy: 0.310000\n",
      "lr 4.000000e-07 reg 2.500000e+04 train accuracy: 0.328776 val accuracy: 0.344000\n",
      "lr 4.000000e-07 reg 2.777778e+04 train accuracy: 0.333735 val accuracy: 0.340000\n",
      "lr 4.000000e-07 reg 3.055556e+04 train accuracy: 0.315551 val accuracy: 0.330000\n",
      "lr 4.000000e-07 reg 3.333333e+04 train accuracy: 0.327347 val accuracy: 0.335000\n",
      "lr 4.000000e-07 reg 3.611111e+04 train accuracy: 0.305755 val accuracy: 0.319000\n",
      "lr 4.000000e-07 reg 3.888889e+04 train accuracy: 0.305490 val accuracy: 0.323000\n",
      "lr 4.000000e-07 reg 4.166667e+04 train accuracy: 0.309592 val accuracy: 0.326000\n",
      "lr 4.000000e-07 reg 4.444444e+04 train accuracy: 0.317449 val accuracy: 0.327000\n",
      "lr 4.000000e-07 reg 4.722222e+04 train accuracy: 0.305755 val accuracy: 0.324000\n",
      "lr 4.000000e-07 reg 5.000000e+04 train accuracy: 0.310204 val accuracy: 0.314000\n",
      "lr 5.000000e-07 reg 2.500000e+04 train accuracy: 0.321898 val accuracy: 0.326000\n",
      "lr 5.000000e-07 reg 2.777778e+04 train accuracy: 0.323286 val accuracy: 0.340000\n",
      "lr 5.000000e-07 reg 3.055556e+04 train accuracy: 0.320020 val accuracy: 0.339000\n",
      "lr 5.000000e-07 reg 3.333333e+04 train accuracy: 0.314306 val accuracy: 0.318000\n",
      "lr 5.000000e-07 reg 3.611111e+04 train accuracy: 0.313224 val accuracy: 0.328000\n",
      "lr 5.000000e-07 reg 3.888889e+04 train accuracy: 0.316796 val accuracy: 0.323000\n",
      "lr 5.000000e-07 reg 4.166667e+04 train accuracy: 0.306041 val accuracy: 0.316000\n",
      "lr 5.000000e-07 reg 4.444444e+04 train accuracy: 0.315816 val accuracy: 0.336000\n",
      "lr 5.000000e-07 reg 4.722222e+04 train accuracy: 0.308796 val accuracy: 0.314000\n",
      "lr 5.000000e-07 reg 5.000000e+04 train accuracy: 0.315653 val accuracy: 0.331000\n",
      "lr 6.000000e-07 reg 2.500000e+04 train accuracy: 0.302082 val accuracy: 0.320000\n",
      "lr 6.000000e-07 reg 2.777778e+04 train accuracy: 0.316816 val accuracy: 0.333000\n",
      "lr 6.000000e-07 reg 3.055556e+04 train accuracy: 0.313163 val accuracy: 0.336000\n",
      "lr 6.000000e-07 reg 3.333333e+04 train accuracy: 0.316776 val accuracy: 0.319000\n",
      "lr 6.000000e-07 reg 3.611111e+04 train accuracy: 0.306653 val accuracy: 0.325000\n",
      "lr 6.000000e-07 reg 3.888889e+04 train accuracy: 0.303633 val accuracy: 0.317000\n",
      "lr 6.000000e-07 reg 4.166667e+04 train accuracy: 0.301367 val accuracy: 0.306000\n",
      "lr 6.000000e-07 reg 4.444444e+04 train accuracy: 0.320429 val accuracy: 0.336000\n",
      "lr 6.000000e-07 reg 4.722222e+04 train accuracy: 0.298898 val accuracy: 0.320000\n",
      "lr 6.000000e-07 reg 5.000000e+04 train accuracy: 0.300735 val accuracy: 0.314000\n",
      "lr 7.000000e-07 reg 2.500000e+04 train accuracy: 0.320673 val accuracy: 0.338000\n",
      "lr 7.000000e-07 reg 2.777778e+04 train accuracy: 0.321673 val accuracy: 0.327000\n",
      "lr 7.000000e-07 reg 3.055556e+04 train accuracy: 0.321429 val accuracy: 0.342000\n",
      "lr 7.000000e-07 reg 3.333333e+04 train accuracy: 0.317939 val accuracy: 0.332000\n",
      "lr 7.000000e-07 reg 3.611111e+04 train accuracy: 0.316694 val accuracy: 0.340000\n",
      "lr 7.000000e-07 reg 3.888889e+04 train accuracy: 0.302673 val accuracy: 0.325000\n",
      "lr 7.000000e-07 reg 4.166667e+04 train accuracy: 0.312837 val accuracy: 0.328000\n",
      "lr 7.000000e-07 reg 4.444444e+04 train accuracy: 0.302898 val accuracy: 0.312000\n",
      "lr 7.000000e-07 reg 4.722222e+04 train accuracy: 0.306388 val accuracy: 0.309000\n",
      "lr 7.000000e-07 reg 5.000000e+04 train accuracy: 0.308796 val accuracy: 0.332000\n",
      "lr 8.000000e-07 reg 2.500000e+04 train accuracy: 0.299204 val accuracy: 0.311000\n",
      "lr 8.000000e-07 reg 2.777778e+04 train accuracy: 0.324224 val accuracy: 0.334000\n",
      "lr 8.000000e-07 reg 3.055556e+04 train accuracy: 0.321918 val accuracy: 0.320000\n",
      "lr 8.000000e-07 reg 3.333333e+04 train accuracy: 0.322939 val accuracy: 0.338000\n",
      "lr 8.000000e-07 reg 3.611111e+04 train accuracy: 0.309816 val accuracy: 0.325000\n",
      "lr 8.000000e-07 reg 3.888889e+04 train accuracy: 0.319061 val accuracy: 0.334000\n",
      "lr 8.000000e-07 reg 4.166667e+04 train accuracy: 0.293510 val accuracy: 0.299000\n",
      "lr 8.000000e-07 reg 4.444444e+04 train accuracy: 0.311980 val accuracy: 0.328000\n",
      "lr 8.000000e-07 reg 4.722222e+04 train accuracy: 0.288102 val accuracy: 0.303000\n",
      "lr 8.000000e-07 reg 5.000000e+04 train accuracy: 0.318837 val accuracy: 0.319000\n",
      "lr 9.000000e-07 reg 2.500000e+04 train accuracy: 0.325347 val accuracy: 0.332000\n",
      "lr 9.000000e-07 reg 2.777778e+04 train accuracy: 0.322122 val accuracy: 0.326000\n",
      "lr 9.000000e-07 reg 3.055556e+04 train accuracy: 0.325714 val accuracy: 0.342000\n",
      "lr 9.000000e-07 reg 3.333333e+04 train accuracy: 0.298592 val accuracy: 0.309000\n",
      "lr 9.000000e-07 reg 3.611111e+04 train accuracy: 0.315102 val accuracy: 0.322000\n",
      "lr 9.000000e-07 reg 3.888889e+04 train accuracy: 0.294510 val accuracy: 0.315000\n",
      "lr 9.000000e-07 reg 4.166667e+04 train accuracy: 0.304490 val accuracy: 0.321000\n",
      "lr 9.000000e-07 reg 4.444444e+04 train accuracy: 0.297041 val accuracy: 0.319000\n",
      "lr 9.000000e-07 reg 4.722222e+04 train accuracy: 0.309837 val accuracy: 0.311000\n",
      "lr 9.000000e-07 reg 5.000000e+04 train accuracy: 0.303286 val accuracy: 0.333000\n",
      "lr 1.000000e-06 reg 2.500000e+04 train accuracy: 0.312388 val accuracy: 0.324000\n",
      "lr 1.000000e-06 reg 2.777778e+04 train accuracy: 0.322204 val accuracy: 0.329000\n",
      "lr 1.000000e-06 reg 3.055556e+04 train accuracy: 0.293000 val accuracy: 0.300000\n",
      "lr 1.000000e-06 reg 3.333333e+04 train accuracy: 0.322082 val accuracy: 0.353000\n",
      "lr 1.000000e-06 reg 3.611111e+04 train accuracy: 0.306061 val accuracy: 0.324000\n",
      "lr 1.000000e-06 reg 3.888889e+04 train accuracy: 0.317082 val accuracy: 0.347000\n",
      "lr 1.000000e-06 reg 4.166667e+04 train accuracy: 0.301633 val accuracy: 0.321000\n",
      "lr 1.000000e-06 reg 4.444444e+04 train accuracy: 0.309612 val accuracy: 0.329000\n",
      "lr 1.000000e-06 reg 4.722222e+04 train accuracy: 0.303143 val accuracy: 0.323000\n",
      "lr 1.000000e-06 reg 5.000000e+04 train accuracy: 0.274673 val accuracy: 0.284000\n",
      "best validation accuracy achieved during cross-validation: 0.353000\n"
     ]
    }
   ],
   "source": [
    "# Use the validation set to tune hyperparameters (regularization strength and\n",
    "# learning rate). You should experiment with different ranges for the learning\n",
    "# rates and regularization strengths; if you are careful you should be able to\n",
    "# get a classification accuracy of over 0.35 on the validation set.\n",
    "\n",
    "from cs231n.classifiers import Softmax\n",
    "results = {}\n",
    "best_val = -1\n",
    "best_softmax = None\n",
    "\n",
    "################################################################################\n",
    "# TODO:                                                                        #\n",
    "# Use the validation set to set the learning rate and regularization strength. #\n",
    "# This should be identical to the validation that you did for the SVM; save    #\n",
    "# the best trained softmax classifer in best_softmax.                          #\n",
    "################################################################################\n",
    "\n",
    "# Provided as a reference. You may or may not want to change these hyperparameters\n",
    "learning_rates = np.linspace(1e-7, 1e-6, 10)\n",
    "regularization_strengths = np.linspace(2.5e4, 5e4, 10)\n",
    "\n",
    "# *****START OF YOUR CODE (DO NOT DELETE/MODIFY THIS LINE)*****\n",
    "\n",
    "for lr in learning_rates:\n",
    "    for rs in regularization_strengths:\n",
    "        softmax = Softmax()\n",
    "        softmax.train(X_train, y_train, learning_rate=lr, reg=rs, num_iters=500, \n",
    "                     verbose=False)\n",
    "        y_train_pred = softmax.predict(X_train)\n",
    "        train_acc = np.mean(y_train == y_train_pred)\n",
    "        y_val_pred = softmax.predict(X_val)\n",
    "        val_acc = np.mean(y_val == y_val_pred)\n",
    "        \n",
    "        results[lr,rs] = [train_acc, val_acc]\n",
    "        if val_acc > best_val:\n",
    "            best_val = val_acc\n",
    "            best_softmax = softmax\n",
    "\n",
    "# *****END OF YOUR CODE (DO NOT DELETE/MODIFY THIS LINE)*****\n",
    "    \n",
    "# Print out results.\n",
    "for lr, reg in sorted(results):\n",
    "    train_accuracy, val_accuracy = results[(lr, reg)]\n",
    "    print('lr %e reg %e train accuracy: %f val accuracy: %f' % (\n",
    "                lr, reg, train_accuracy, val_accuracy))\n",
    "    \n",
    "print('best validation accuracy achieved during cross-validation: %f' % best_val)"
   ]
  },
  {
   "cell_type": "code",
   "execution_count": 26,
   "metadata": {
    "id": "test"
   },
   "outputs": [
    {
     "name": "stdout",
     "output_type": "stream",
     "text": [
      "softmax on raw pixels final test set accuracy: 0.336000\n"
     ]
    }
   ],
   "source": [
    "# evaluate on test set\n",
    "# Evaluate the best softmax on test set\n",
    "y_test_pred = best_softmax.predict(X_test)\n",
    "test_accuracy = np.mean(y_test == y_test_pred)\n",
    "print('softmax on raw pixels final test set accuracy: %f' % (test_accuracy, ))"
   ]
  },
  {
   "cell_type": "markdown",
   "metadata": {
    "tags": [
     "pdf-inline"
    ]
   },
   "source": [
    "**Inline Question 2** - *True or False*\n",
    "\n",
    "Suppose the overall training loss is defined as the sum of the per-datapoint loss over all training examples. It is possible to add a new datapoint to a training set that would leave the SVM loss unchanged, but this is not the case with the Softmax classifier loss.\n",
    "\n",
    "$\\color{blue}{\\textit Your Answer:}$ True\n",
    "\n",
    "\n",
    "$\\color{blue}{\\textit Your Explanation:}$ All training points would have an impact on the Softmax loss function, and that perfect score is only achievable in theory. On the other hand, a SVM training example can have zero loss if its score is over the determined margin."
   ]
  },
  {
   "cell_type": "code",
   "execution_count": 28,
   "metadata": {},
   "outputs": [
    {
     "data": {
      "image/png": "[encoded data removed]",
      "text/plain": [
       "<Figure size 720x576 with 10 Axes>"
      ]
     },
     "metadata": {
      "needs_background": "light"
     },
     "output_type": "display_data"
    }
   ],
   "source": [
    "# Visualize the learned weights for each class\n",
    "w = best_softmax.W[:-1,:] # strip out the bias\n",
    "w = w.reshape(32, 32, 3, 10)\n",
    "\n",
    "w_min, w_max = np.min(w), np.max(w)\n",
    "\n",
    "classes = ['plane', 'car', 'bird', 'cat', 'deer', 'dog', 'frog', 'horse', 'ship', 'truck']\n",
    "for i in range(10):\n",
    "    plt.subplot(2, 5, i + 1)\n",
    "    \n",
    "    # Rescale the weights to be between 0 and 255\n",
    "    wimg = 255.0 * (w[:, :, :, i].squeeze() - w_min) / (w_max - w_min)\n",
    "    plt.imshow(wimg.astype('uint8'))\n",
    "    plt.axis('off')\n",
    "    plt.title(classes[i])"
   ]
  }
 ],
 "metadata": {
  "kernelspec": {
   "display_name": "Python 3",
   "language": "python",
   "name": "python3"
  },
  "language_info": {
   "codemirror_mode": {
    "name": "ipython",
    "version": 3
   },
   "file_extension": ".py",
   "mimetype": "text/x-python",
   "name": "python",
   "nbconvert_exporter": "python",
   "pygments_lexer": "ipython3",
   "version": "3.7.7"
  }
 },
 "nbformat": 4,
 "nbformat_minor": 1
}
